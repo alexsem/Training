{
 "cells": [
  {
   "cell_type": "code",
   "execution_count": 2,
   "metadata": {},
   "outputs": [],
   "source": [
    "import pandas as pd\n",
    "import numpy as np\n",
    "%matplotlib inline\n",
    "\n",
    "# Load a non-stationary dataset\n",
    "df_ns = pd.read_csv('./Data Files/airline_passengers.csv', index_col='Month', parse_dates=True)\n",
    "df_ns.index.freq = 'MS'\n",
    "\n",
    "# Load a stationary dataset\n",
    "df_s = pd.read_csv('./Data Files/DailyTotalFemaleBirths.csv', index_col='Date', parse_dates=True)\n",
    "df_s.index.freq = 'D'"
   ]
  },
  {
   "cell_type": "code",
   "execution_count": 3,
   "metadata": {},
   "outputs": [
    {
     "name": "stdout",
     "output_type": "stream",
     "text": [
      "\n",
      "The following command must be run outside of the IPython shell:\n",
      "\n",
      "    $ pip install pmdarima\n",
      "\n",
      "The Python package manager (pip) can only be used from outside of IPython.\n",
      "Please reissue the `pip` command in a separate terminal or command prompt.\n",
      "\n",
      "See the Python documentation for more information on how to install packages:\n",
      "\n",
      "    https://docs.python.org/3/installing/\n"
     ]
    }
   ],
   "source": [
    "pip install pmdarima"
   ]
  },
  {
   "cell_type": "code",
   "execution_count": 1,
   "metadata": {},
   "outputs": [],
   "source": [
    "from pmdarima import auto_arima"
   ]
  },
  {
   "cell_type": "code",
   "execution_count": 3,
   "metadata": {},
   "outputs": [],
   "source": [
    "import warnings\n",
    "warnings.filterwarnings('ignore')"
   ]
  },
  {
   "cell_type": "code",
   "execution_count": 8,
   "metadata": {},
   "outputs": [
    {
     "name": "stdout",
     "output_type": "stream",
     "text": [
      "Fit ARIMA: order=(0, 1, 0) seasonal_order=(0, 0, 0, 0); AIC=2650.760, BIC=2658.555, Fit time=0.011 seconds\n",
      "Fit ARIMA: order=(1, 1, 0) seasonal_order=(0, 0, 0, 0); AIC=2565.234, BIC=2576.925, Fit time=0.032 seconds\n",
      "Fit ARIMA: order=(0, 1, 1) seasonal_order=(0, 0, 0, 0); AIC=2463.584, BIC=2475.275, Fit time=0.068 seconds\n",
      "Fit ARIMA: order=(0, 1, 0) seasonal_order=(0, 0, 0, 0); AIC=2648.768, BIC=2652.665, Fit time=0.007 seconds\n",
      "Fit ARIMA: order=(1, 1, 1) seasonal_order=(0, 0, 0, 0); AIC=2460.154, BIC=2475.743, Fit time=0.127 seconds\n",
      "Fit ARIMA: order=(2, 1, 1) seasonal_order=(0, 0, 0, 0); AIC=2461.271, BIC=2480.757, Fit time=0.169 seconds\n",
      "Fit ARIMA: order=(1, 1, 2) seasonal_order=(0, 0, 0, 0); AIC=2460.751, BIC=2480.237, Fit time=0.351 seconds\n",
      "Near non-invertible roots for order (1, 1, 2)(0, 0, 0, 0); setting score to inf (at least one inverse root too close to the border of the unit circle: 0.996)\n",
      "Fit ARIMA: order=(0, 1, 2) seasonal_order=(0, 0, 0, 0); AIC=2460.722, BIC=2476.311, Fit time=0.137 seconds\n",
      "Fit ARIMA: order=(2, 1, 0) seasonal_order=(0, 0, 0, 0); AIC=2536.154, BIC=2551.742, Fit time=0.081 seconds\n",
      "Fit ARIMA: order=(2, 1, 2) seasonal_order=(0, 0, 0, 0); AIC=2463.066, BIC=2486.449, Fit time=0.450 seconds\n",
      "Total fit time: 1.434 seconds\n"
     ]
    }
   ],
   "source": [
    "stepwise_fit = auto_arima(df_s['Births'], start_p=0, start_q=0, max_p=6, max_q=3, seasonal=False, trace=True)"
   ]
  },
  {
   "cell_type": "code",
   "execution_count": 9,
   "metadata": {},
   "outputs": [
    {
     "data": {
      "text/html": [
       "<table class=\"simpletable\">\n",
       "<caption>Statespace Model Results</caption>\n",
       "<tr>\n",
       "  <th>Dep. Variable:</th>           <td>y</td>        <th>  No. Observations:  </th>    <td>365</td>   \n",
       "</tr>\n",
       "<tr>\n",
       "  <th>Model:</th>           <td>SARIMAX(1, 1, 1)</td> <th>  Log Likelihood     </th> <td>-1226.077</td>\n",
       "</tr>\n",
       "<tr>\n",
       "  <th>Date:</th>            <td>Thu, 26 Dec 2019</td> <th>  AIC                </th> <td>2460.154</td> \n",
       "</tr>\n",
       "<tr>\n",
       "  <th>Time:</th>                <td>16:10:24</td>     <th>  BIC                </th> <td>2475.743</td> \n",
       "</tr>\n",
       "<tr>\n",
       "  <th>Sample:</th>                  <td>0</td>        <th>  HQIC               </th> <td>2466.350</td> \n",
       "</tr>\n",
       "<tr>\n",
       "  <th></th>                      <td> - 365</td>      <th>                     </th>     <td> </td>    \n",
       "</tr>\n",
       "<tr>\n",
       "  <th>Covariance Type:</th>        <td>opg</td>       <th>                     </th>     <td> </td>    \n",
       "</tr>\n",
       "</table>\n",
       "<table class=\"simpletable\">\n",
       "<tr>\n",
       "      <td></td>         <th>coef</th>     <th>std err</th>      <th>z</th>      <th>P>|z|</th>  <th>[0.025</th>    <th>0.975]</th>  \n",
       "</tr>\n",
       "<tr>\n",
       "  <th>intercept</th> <td>    0.0132</td> <td>    0.014</td> <td>    0.975</td> <td> 0.330</td> <td>   -0.013</td> <td>    0.040</td>\n",
       "</tr>\n",
       "<tr>\n",
       "  <th>ar.L1</th>     <td>    0.1299</td> <td>    0.059</td> <td>    2.217</td> <td> 0.027</td> <td>    0.015</td> <td>    0.245</td>\n",
       "</tr>\n",
       "<tr>\n",
       "  <th>ma.L1</th>     <td>   -0.9694</td> <td>    0.016</td> <td>  -62.235</td> <td> 0.000</td> <td>   -1.000</td> <td>   -0.939</td>\n",
       "</tr>\n",
       "<tr>\n",
       "  <th>sigma2</th>    <td>   48.9989</td> <td>    3.432</td> <td>   14.279</td> <td> 0.000</td> <td>   42.273</td> <td>   55.725</td>\n",
       "</tr>\n",
       "</table>\n",
       "<table class=\"simpletable\">\n",
       "<tr>\n",
       "  <th>Ljung-Box (Q):</th>          <td>36.69</td> <th>  Jarque-Bera (JB):  </th> <td>26.17</td>\n",
       "</tr>\n",
       "<tr>\n",
       "  <th>Prob(Q):</th>                <td>0.62</td>  <th>  Prob(JB):          </th> <td>0.00</td> \n",
       "</tr>\n",
       "<tr>\n",
       "  <th>Heteroskedasticity (H):</th> <td>0.97</td>  <th>  Skew:              </th> <td>0.58</td> \n",
       "</tr>\n",
       "<tr>\n",
       "  <th>Prob(H) (two-sided):</th>    <td>0.85</td>  <th>  Kurtosis:          </th> <td>3.62</td> \n",
       "</tr>\n",
       "</table><br/><br/>Warnings:<br/>[1] Covariance matrix calculated using the outer product of gradients (complex-step)."
      ],
      "text/plain": [
       "<class 'statsmodels.iolib.summary.Summary'>\n",
       "\"\"\"\n",
       "                           Statespace Model Results                           \n",
       "==============================================================================\n",
       "Dep. Variable:                      y   No. Observations:                  365\n",
       "Model:               SARIMAX(1, 1, 1)   Log Likelihood               -1226.077\n",
       "Date:                Thu, 26 Dec 2019   AIC                           2460.154\n",
       "Time:                        16:10:24   BIC                           2475.743\n",
       "Sample:                             0   HQIC                          2466.350\n",
       "                                - 365                                         \n",
       "Covariance Type:                  opg                                         \n",
       "==============================================================================\n",
       "                 coef    std err          z      P>|z|      [0.025      0.975]\n",
       "------------------------------------------------------------------------------\n",
       "intercept      0.0132      0.014      0.975      0.330      -0.013       0.040\n",
       "ar.L1          0.1299      0.059      2.217      0.027       0.015       0.245\n",
       "ma.L1         -0.9694      0.016    -62.235      0.000      -1.000      -0.939\n",
       "sigma2        48.9989      3.432     14.279      0.000      42.273      55.725\n",
       "===================================================================================\n",
       "Ljung-Box (Q):                       36.69   Jarque-Bera (JB):                26.17\n",
       "Prob(Q):                              0.62   Prob(JB):                         0.00\n",
       "Heteroskedasticity (H):               0.97   Skew:                             0.58\n",
       "Prob(H) (two-sided):                  0.85   Kurtosis:                         3.62\n",
       "===================================================================================\n",
       "\n",
       "Warnings:\n",
       "[1] Covariance matrix calculated using the outer product of gradients (complex-step).\n",
       "\"\"\""
      ]
     },
     "execution_count": 9,
     "metadata": {},
     "output_type": "execute_result"
    }
   ],
   "source": [
    "stepwise_fit.summary()"
   ]
  },
  {
   "cell_type": "code",
   "execution_count": 10,
   "metadata": {},
   "outputs": [
    {
     "name": "stdout",
     "output_type": "stream",
     "text": [
      "Fit ARIMA: order=(1, 1, 0) seasonal_order=(1, 1, 1, 12); AIC=1022.410, BIC=1036.786, Fit time=0.521 seconds\n",
      "Fit ARIMA: order=(0, 1, 0) seasonal_order=(0, 1, 0, 12); AIC=1033.479, BIC=1039.229, Fit time=0.012 seconds\n",
      "Fit ARIMA: order=(1, 1, 0) seasonal_order=(1, 1, 0, 12); AIC=1022.316, BIC=1033.817, Fit time=0.263 seconds\n",
      "Fit ARIMA: order=(0, 1, 1) seasonal_order=(0, 1, 1, 12); AIC=1022.904, BIC=1034.405, Fit time=0.298 seconds\n",
      "Fit ARIMA: order=(0, 1, 0) seasonal_order=(0, 1, 0, 12); AIC=1031.508, BIC=1034.383, Fit time=0.009 seconds\n",
      "Fit ARIMA: order=(1, 1, 0) seasonal_order=(0, 1, 0, 12); AIC=1022.343, BIC=1030.968, Fit time=0.065 seconds\n",
      "Fit ARIMA: order=(1, 1, 0) seasonal_order=(2, 1, 0, 12); AIC=1021.137, BIC=1035.513, Fit time=0.821 seconds\n",
      "Fit ARIMA: order=(1, 1, 0) seasonal_order=(2, 1, 1, 12); AIC=1017.166, BIC=1034.417, Fit time=2.740 seconds\n",
      "Near non-invertible roots for order (1, 1, 0)(2, 1, 1, 12); setting score to inf (at least one inverse root too close to the border of the unit circle: 0.998)\n",
      "Fit ARIMA: order=(0, 1, 0) seasonal_order=(2, 1, 0, 12); AIC=1034.067, BIC=1045.568, Fit time=0.538 seconds\n",
      "Fit ARIMA: order=(2, 1, 0) seasonal_order=(2, 1, 0, 12); AIC=1023.007, BIC=1040.258, Fit time=1.030 seconds\n",
      "Fit ARIMA: order=(1, 1, 1) seasonal_order=(2, 1, 0, 12); AIC=1022.905, BIC=1040.156, Fit time=0.907 seconds\n",
      "Fit ARIMA: order=(0, 1, 1) seasonal_order=(2, 1, 0, 12); AIC=1021.017, BIC=1035.393, Fit time=0.555 seconds\n",
      "Fit ARIMA: order=(1, 1, 2) seasonal_order=(2, 1, 0, 12); AIC=1024.668, BIC=1044.795, Fit time=1.624 seconds\n",
      "Fit ARIMA: order=(0, 1, 1) seasonal_order=(1, 1, 0, 12); AIC=1022.314, BIC=1033.815, Fit time=0.187 seconds\n",
      "Fit ARIMA: order=(0, 1, 1) seasonal_order=(2, 1, 1, 12); AIC=1015.841, BIC=1033.092, Fit time=2.349 seconds\n",
      "Near non-invertible roots for order (0, 1, 1)(2, 1, 1, 12); setting score to inf (at least one inverse root too close to the border of the unit circle: 0.998)\n",
      "Fit ARIMA: order=(0, 1, 1) seasonal_order=(1, 1, 1, 12); AIC=1022.207, BIC=1036.583, Fit time=0.589 seconds\n",
      "Fit ARIMA: order=(0, 1, 2) seasonal_order=(2, 1, 0, 12); AIC=1022.996, BIC=1040.247, Fit time=0.864 seconds\n",
      "Total fit time: 13.397 seconds\n"
     ]
    }
   ],
   "source": [
    "stepwise_fit = auto_arima(df_ns['Thousands of Passengers'], start_p=1, start_q=0,max_p=4, max_q=4, seasonal=True, trace=True, m=12)"
   ]
  },
  {
   "cell_type": "code",
   "execution_count": 11,
   "metadata": {},
   "outputs": [
    {
     "data": {
      "text/html": [
       "<table class=\"simpletable\">\n",
       "<caption>Statespace Model Results</caption>\n",
       "<tr>\n",
       "  <th>Dep. Variable:</th>                  <td>y</td>               <th>  No. Observations:  </th>    <td>144</td>  \n",
       "</tr>\n",
       "<tr>\n",
       "  <th>Model:</th>           <td>SARIMAX(0, 1, 1)x(2, 1, 1, 12)</td> <th>  Log Likelihood     </th> <td>-501.921</td>\n",
       "</tr>\n",
       "<tr>\n",
       "  <th>Date:</th>                   <td>Thu, 26 Dec 2019</td>        <th>  AIC                </th> <td>1015.841</td>\n",
       "</tr>\n",
       "<tr>\n",
       "  <th>Time:</th>                       <td>16:12:51</td>            <th>  BIC                </th> <td>1033.092</td>\n",
       "</tr>\n",
       "<tr>\n",
       "  <th>Sample:</th>                         <td>0</td>               <th>  HQIC               </th> <td>1022.851</td>\n",
       "</tr>\n",
       "<tr>\n",
       "  <th></th>                             <td> - 144</td>             <th>                     </th>     <td> </td>   \n",
       "</tr>\n",
       "<tr>\n",
       "  <th>Covariance Type:</th>               <td>opg</td>              <th>                     </th>     <td> </td>   \n",
       "</tr>\n",
       "</table>\n",
       "<table class=\"simpletable\">\n",
       "<tr>\n",
       "      <td></td>         <th>coef</th>     <th>std err</th>      <th>z</th>      <th>P>|z|</th>  <th>[0.025</th>    <th>0.975]</th>  \n",
       "</tr>\n",
       "<tr>\n",
       "  <th>intercept</th> <td>    0.0002</td> <td>    0.033</td> <td>    0.007</td> <td> 0.994</td> <td>   -0.064</td> <td>    0.065</td>\n",
       "</tr>\n",
       "<tr>\n",
       "  <th>ma.L1</th>     <td>   -0.4261</td> <td>    0.068</td> <td>   -6.255</td> <td> 0.000</td> <td>   -0.560</td> <td>   -0.293</td>\n",
       "</tr>\n",
       "<tr>\n",
       "  <th>ar.S.L12</th>  <td>    0.6722</td> <td>    0.162</td> <td>    4.155</td> <td> 0.000</td> <td>    0.355</td> <td>    0.989</td>\n",
       "</tr>\n",
       "<tr>\n",
       "  <th>ar.S.L24</th>  <td>    0.3268</td> <td>    0.094</td> <td>    3.481</td> <td> 0.000</td> <td>    0.143</td> <td>    0.511</td>\n",
       "</tr>\n",
       "<tr>\n",
       "  <th>ma.S.L12</th>  <td>   -0.9788</td> <td>    1.478</td> <td>   -0.662</td> <td> 0.508</td> <td>   -3.876</td> <td>    1.918</td>\n",
       "</tr>\n",
       "<tr>\n",
       "  <th>sigma2</th>    <td>  110.3866</td> <td>  139.923</td> <td>    0.789</td> <td> 0.430</td> <td> -163.858</td> <td>  384.631</td>\n",
       "</tr>\n",
       "</table>\n",
       "<table class=\"simpletable\">\n",
       "<tr>\n",
       "  <th>Ljung-Box (Q):</th>          <td>52.79</td> <th>  Jarque-Bera (JB):  </th> <td>7.34</td>\n",
       "</tr>\n",
       "<tr>\n",
       "  <th>Prob(Q):</th>                <td>0.08</td>  <th>  Prob(JB):          </th> <td>0.03</td>\n",
       "</tr>\n",
       "<tr>\n",
       "  <th>Heteroskedasticity (H):</th> <td>2.81</td>  <th>  Skew:              </th> <td>0.10</td>\n",
       "</tr>\n",
       "<tr>\n",
       "  <th>Prob(H) (two-sided):</th>    <td>0.00</td>  <th>  Kurtosis:          </th> <td>4.14</td>\n",
       "</tr>\n",
       "</table><br/><br/>Warnings:<br/>[1] Covariance matrix calculated using the outer product of gradients (complex-step)."
      ],
      "text/plain": [
       "<class 'statsmodels.iolib.summary.Summary'>\n",
       "\"\"\"\n",
       "                                 Statespace Model Results                                 \n",
       "==========================================================================================\n",
       "Dep. Variable:                                  y   No. Observations:                  144\n",
       "Model:             SARIMAX(0, 1, 1)x(2, 1, 1, 12)   Log Likelihood                -501.921\n",
       "Date:                            Thu, 26 Dec 2019   AIC                           1015.841\n",
       "Time:                                    16:12:51   BIC                           1033.092\n",
       "Sample:                                         0   HQIC                          1022.851\n",
       "                                            - 144                                         \n",
       "Covariance Type:                              opg                                         \n",
       "==============================================================================\n",
       "                 coef    std err          z      P>|z|      [0.025      0.975]\n",
       "------------------------------------------------------------------------------\n",
       "intercept      0.0002      0.033      0.007      0.994      -0.064       0.065\n",
       "ma.L1         -0.4261      0.068     -6.255      0.000      -0.560      -0.293\n",
       "ar.S.L12       0.6722      0.162      4.155      0.000       0.355       0.989\n",
       "ar.S.L24       0.3268      0.094      3.481      0.000       0.143       0.511\n",
       "ma.S.L12      -0.9788      1.478     -0.662      0.508      -3.876       1.918\n",
       "sigma2       110.3866    139.923      0.789      0.430    -163.858     384.631\n",
       "===================================================================================\n",
       "Ljung-Box (Q):                       52.79   Jarque-Bera (JB):                 7.34\n",
       "Prob(Q):                              0.08   Prob(JB):                         0.03\n",
       "Heteroskedasticity (H):               2.81   Skew:                             0.10\n",
       "Prob(H) (two-sided):                  0.00   Kurtosis:                         4.14\n",
       "===================================================================================\n",
       "\n",
       "Warnings:\n",
       "[1] Covariance matrix calculated using the outer product of gradients (complex-step).\n",
       "\"\"\""
      ]
     },
     "execution_count": 11,
     "metadata": {},
     "output_type": "execute_result"
    }
   ],
   "source": [
    "stepwise_fit.summary()"
   ]
  },
  {
   "cell_type": "code",
   "execution_count": null,
   "metadata": {},
   "outputs": [],
   "source": []
  }
 ],
 "metadata": {
  "kernelspec": {
   "display_name": "Python 3",
   "language": "python",
   "name": "python3"
  },
  "language_info": {
   "codemirror_mode": {
    "name": "ipython",
    "version": 3
   },
   "file_extension": ".py",
   "mimetype": "text/x-python",
   "name": "python",
   "nbconvert_exporter": "python",
   "pygments_lexer": "ipython3",
   "version": "3.6.5"
  }
 },
 "nbformat": 4,
 "nbformat_minor": 2
}
