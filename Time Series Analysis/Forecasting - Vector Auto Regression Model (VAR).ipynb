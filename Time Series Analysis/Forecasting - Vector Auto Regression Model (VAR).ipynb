{
 "cells": [
  {
   "cell_type": "code",
   "execution_count": 1,
   "metadata": {},
   "outputs": [],
   "source": [
    "import pandas as pd\n",
    "import numpy as np\n",
    "%matplotlib inline"
   ]
  },
  {
   "cell_type": "code",
   "execution_count": 2,
   "metadata": {},
   "outputs": [],
   "source": [
    "from statsmodels.tsa.api import VAR\n",
    "from statsmodels.tsa.stattools import adfuller\n",
    "from statsmodels.tools.eval_measures import rmse"
   ]
  },
  {
   "cell_type": "code",
   "execution_count": 3,
   "metadata": {},
   "outputs": [],
   "source": [
    "import warnings\n",
    "warnings.filterwarnings(\"ignore\")"
   ]
  },
  {
   "cell_type": "code",
   "execution_count": 5,
   "metadata": {},
   "outputs": [],
   "source": [
    "df = pd.read_csv('./Data Files/M2SLMoneyStock.csv', index_col=0, parse_dates=True)\n",
    "df.index.freq = 'MS'"
   ]
  },
  {
   "cell_type": "code",
   "execution_count": 6,
   "metadata": {},
   "outputs": [],
   "source": [
    "sp = pd.read_csv('./Data Files/PCEPersonalSpending.csv', index_col=0, parse_dates=True)\n",
    "sp.index.freq = 'MS'"
   ]
  },
  {
   "cell_type": "code",
   "execution_count": 7,
   "metadata": {},
   "outputs": [
    {
     "data": {
      "text/html": [
       "<div>\n",
       "<style scoped>\n",
       "    .dataframe tbody tr th:only-of-type {\n",
       "        vertical-align: middle;\n",
       "    }\n",
       "\n",
       "    .dataframe tbody tr th {\n",
       "        vertical-align: top;\n",
       "    }\n",
       "\n",
       "    .dataframe thead th {\n",
       "        text-align: right;\n",
       "    }\n",
       "</style>\n",
       "<table border=\"1\" class=\"dataframe\">\n",
       "  <thead>\n",
       "    <tr style=\"text-align: right;\">\n",
       "      <th></th>\n",
       "      <th>Money</th>\n",
       "    </tr>\n",
       "    <tr>\n",
       "      <th>Date</th>\n",
       "      <th></th>\n",
       "    </tr>\n",
       "  </thead>\n",
       "  <tbody>\n",
       "    <tr>\n",
       "      <th>1995-01-01</th>\n",
       "      <td>3492.4</td>\n",
       "    </tr>\n",
       "    <tr>\n",
       "      <th>1995-02-01</th>\n",
       "      <td>3489.9</td>\n",
       "    </tr>\n",
       "    <tr>\n",
       "      <th>1995-03-01</th>\n",
       "      <td>3491.1</td>\n",
       "    </tr>\n",
       "    <tr>\n",
       "      <th>1995-04-01</th>\n",
       "      <td>3499.2</td>\n",
       "    </tr>\n",
       "    <tr>\n",
       "      <th>1995-05-01</th>\n",
       "      <td>3524.2</td>\n",
       "    </tr>\n",
       "  </tbody>\n",
       "</table>\n",
       "</div>"
      ],
      "text/plain": [
       "             Money\n",
       "Date              \n",
       "1995-01-01  3492.4\n",
       "1995-02-01  3489.9\n",
       "1995-03-01  3491.1\n",
       "1995-04-01  3499.2\n",
       "1995-05-01  3524.2"
      ]
     },
     "execution_count": 7,
     "metadata": {},
     "output_type": "execute_result"
    }
   ],
   "source": [
    "df.head()"
   ]
  },
  {
   "cell_type": "code",
   "execution_count": 8,
   "metadata": {},
   "outputs": [
    {
     "data": {
      "text/html": [
       "<div>\n",
       "<style scoped>\n",
       "    .dataframe tbody tr th:only-of-type {\n",
       "        vertical-align: middle;\n",
       "    }\n",
       "\n",
       "    .dataframe tbody tr th {\n",
       "        vertical-align: top;\n",
       "    }\n",
       "\n",
       "    .dataframe thead th {\n",
       "        text-align: right;\n",
       "    }\n",
       "</style>\n",
       "<table border=\"1\" class=\"dataframe\">\n",
       "  <thead>\n",
       "    <tr style=\"text-align: right;\">\n",
       "      <th></th>\n",
       "      <th>Spending</th>\n",
       "    </tr>\n",
       "    <tr>\n",
       "      <th>Date</th>\n",
       "      <th></th>\n",
       "    </tr>\n",
       "  </thead>\n",
       "  <tbody>\n",
       "    <tr>\n",
       "      <th>1995-01-01</th>\n",
       "      <td>4851.2</td>\n",
       "    </tr>\n",
       "    <tr>\n",
       "      <th>1995-02-01</th>\n",
       "      <td>4850.8</td>\n",
       "    </tr>\n",
       "    <tr>\n",
       "      <th>1995-03-01</th>\n",
       "      <td>4885.4</td>\n",
       "    </tr>\n",
       "    <tr>\n",
       "      <th>1995-04-01</th>\n",
       "      <td>4890.2</td>\n",
       "    </tr>\n",
       "    <tr>\n",
       "      <th>1995-05-01</th>\n",
       "      <td>4933.1</td>\n",
       "    </tr>\n",
       "  </tbody>\n",
       "</table>\n",
       "</div>"
      ],
      "text/plain": [
       "            Spending\n",
       "Date                \n",
       "1995-01-01    4851.2\n",
       "1995-02-01    4850.8\n",
       "1995-03-01    4885.4\n",
       "1995-04-01    4890.2\n",
       "1995-05-01    4933.1"
      ]
     },
     "execution_count": 8,
     "metadata": {},
     "output_type": "execute_result"
    }
   ],
   "source": [
    "sp.head()"
   ]
  },
  {
   "cell_type": "code",
   "execution_count": 9,
   "metadata": {},
   "outputs": [],
   "source": [
    "df = df.join(sp)"
   ]
  },
  {
   "cell_type": "code",
   "execution_count": 10,
   "metadata": {},
   "outputs": [
    {
     "data": {
      "text/html": [
       "<div>\n",
       "<style scoped>\n",
       "    .dataframe tbody tr th:only-of-type {\n",
       "        vertical-align: middle;\n",
       "    }\n",
       "\n",
       "    .dataframe tbody tr th {\n",
       "        vertical-align: top;\n",
       "    }\n",
       "\n",
       "    .dataframe thead th {\n",
       "        text-align: right;\n",
       "    }\n",
       "</style>\n",
       "<table border=\"1\" class=\"dataframe\">\n",
       "  <thead>\n",
       "    <tr style=\"text-align: right;\">\n",
       "      <th></th>\n",
       "      <th>Money</th>\n",
       "      <th>Spending</th>\n",
       "    </tr>\n",
       "    <tr>\n",
       "      <th>Date</th>\n",
       "      <th></th>\n",
       "      <th></th>\n",
       "    </tr>\n",
       "  </thead>\n",
       "  <tbody>\n",
       "    <tr>\n",
       "      <th>1995-01-01</th>\n",
       "      <td>3492.4</td>\n",
       "      <td>4851.2</td>\n",
       "    </tr>\n",
       "    <tr>\n",
       "      <th>1995-02-01</th>\n",
       "      <td>3489.9</td>\n",
       "      <td>4850.8</td>\n",
       "    </tr>\n",
       "    <tr>\n",
       "      <th>1995-03-01</th>\n",
       "      <td>3491.1</td>\n",
       "      <td>4885.4</td>\n",
       "    </tr>\n",
       "    <tr>\n",
       "      <th>1995-04-01</th>\n",
       "      <td>3499.2</td>\n",
       "      <td>4890.2</td>\n",
       "    </tr>\n",
       "    <tr>\n",
       "      <th>1995-05-01</th>\n",
       "      <td>3524.2</td>\n",
       "      <td>4933.1</td>\n",
       "    </tr>\n",
       "  </tbody>\n",
       "</table>\n",
       "</div>"
      ],
      "text/plain": [
       "             Money  Spending\n",
       "Date                        \n",
       "1995-01-01  3492.4    4851.2\n",
       "1995-02-01  3489.9    4850.8\n",
       "1995-03-01  3491.1    4885.4\n",
       "1995-04-01  3499.2    4890.2\n",
       "1995-05-01  3524.2    4933.1"
      ]
     },
     "execution_count": 10,
     "metadata": {},
     "output_type": "execute_result"
    }
   ],
   "source": [
    "df.head()"
   ]
  },
  {
   "cell_type": "code",
   "execution_count": 12,
   "metadata": {},
   "outputs": [],
   "source": [
    "df = df.dropna()"
   ]
  },
  {
   "cell_type": "code",
   "execution_count": 13,
   "metadata": {},
   "outputs": [
    {
     "data": {
      "text/plain": [
       "<matplotlib.axes._subplots.AxesSubplot at 0x27944d78b38>"
      ]
     },
     "execution_count": 13,
     "metadata": {},
     "output_type": "execute_result"
    },
    {
     "data": {
      "image/png": "[encoded data removed]",
      "text/plain": [
       "<Figure size 864x576 with 1 Axes>"
      ]
     },
     "metadata": {},
     "output_type": "display_data"
    }
   ],
   "source": [
    "df.plot(figsize=(12,8))"
   ]
  },
  {
   "cell_type": "code",
   "execution_count": 14,
   "metadata": {},
   "outputs": [],
   "source": [
    "def adf_test(series,title=''):\n",
    "    \"\"\"\n",
    "    Pass in a time series and an optional title, returns an ADF report\n",
    "    \"\"\"\n",
    "    print(f'Augmented Dickey-Fuller Test: {title}')\n",
    "    result = adfuller(series.dropna(),autolag='AIC') # .dropna() handles differenced data\n",
    "    \n",
    "    labels = ['ADF test statistic','p-value','# lags used','# observations']\n",
    "    out = pd.Series(result[0:4],index=labels)\n",
    "\n",
    "    for key,val in result[4].items():\n",
    "        out[f'critical value ({key})']=val\n",
    "        \n",
    "    print(out.to_string())          # .to_string() removes the line \"dtype: float64\"\n",
    "    \n",
    "    if result[1] <= 0.05:\n",
    "        print(\"Strong evidence against the null hypothesis\")\n",
    "        print(\"Reject the null hypothesis\")\n",
    "        print(\"Data has no unit root and is stationary\")\n",
    "    else:\n",
    "        print(\"Weak evidence against the null hypothesis\")\n",
    "        print(\"Fail to reject the null hypothesis\")\n",
    "        print(\"Data has a unit root and is non-stationary\")"
   ]
  },
  {
   "cell_type": "code",
   "execution_count": 15,
   "metadata": {},
   "outputs": [
    {
     "name": "stdout",
     "output_type": "stream",
     "text": [
      "Augmented Dickey-Fuller Test: \n",
      "ADF test statistic        4.239022\n",
      "p-value                   1.000000\n",
      "# lags used               4.000000\n",
      "# observations          247.000000\n",
      "critical value (1%)      -3.457105\n",
      "critical value (5%)      -2.873314\n",
      "critical value (10%)     -2.573044\n",
      "Weak evidence against the null hypothesis\n",
      "Fail to reject the null hypothesis\n",
      "Data has a unit root and is non-stationary\n"
     ]
    }
   ],
   "source": [
    "adf_test(df['Money'])"
   ]
  },
  {
   "cell_type": "code",
   "execution_count": 16,
   "metadata": {},
   "outputs": [
    {
     "name": "stdout",
     "output_type": "stream",
     "text": [
      "Augmented Dickey-Fuller Test: \n",
      "ADF test statistic        0.149796\n",
      "p-value                   0.969301\n",
      "# lags used               3.000000\n",
      "# observations          248.000000\n",
      "critical value (1%)      -3.456996\n",
      "critical value (5%)      -2.873266\n",
      "critical value (10%)     -2.573019\n",
      "Weak evidence against the null hypothesis\n",
      "Fail to reject the null hypothesis\n",
      "Data has a unit root and is non-stationary\n"
     ]
    }
   ],
   "source": [
    "adf_test(df['Spending'])"
   ]
  },
  {
   "cell_type": "code",
   "execution_count": 17,
   "metadata": {},
   "outputs": [],
   "source": [
    "df_transformed = df.diff()"
   ]
  },
  {
   "cell_type": "code",
   "execution_count": 18,
   "metadata": {},
   "outputs": [
    {
     "name": "stdout",
     "output_type": "stream",
     "text": [
      "Augmented Dickey-Fuller Test: \n",
      "ADF test statistic       -2.057404\n",
      "p-value                   0.261984\n",
      "# lags used              15.000000\n",
      "# observations          235.000000\n",
      "critical value (1%)      -3.458487\n",
      "critical value (5%)      -2.873919\n",
      "critical value (10%)     -2.573367\n",
      "Weak evidence against the null hypothesis\n",
      "Fail to reject the null hypothesis\n",
      "Data has a unit root and is non-stationary\n"
     ]
    }
   ],
   "source": [
    "adf_test(df_transformed['Money'])"
   ]
  },
  {
   "cell_type": "code",
   "execution_count": 19,
   "metadata": {},
   "outputs": [
    {
     "name": "stdout",
     "output_type": "stream",
     "text": [
      "Augmented Dickey-Fuller Test: \n",
      "ADF test statistic     -7.226974e+00\n",
      "p-value                 2.041027e-10\n",
      "# lags used             2.000000e+00\n",
      "# observations          2.480000e+02\n",
      "critical value (1%)    -3.456996e+00\n",
      "critical value (5%)    -2.873266e+00\n",
      "critical value (10%)   -2.573019e+00\n",
      "Strong evidence against the null hypothesis\n",
      "Reject the null hypothesis\n",
      "Data has no unit root and is stationary\n"
     ]
    }
   ],
   "source": [
    "adf_test(df_transformed['Spending'])"
   ]
  },
  {
   "cell_type": "code",
   "execution_count": 20,
   "metadata": {},
   "outputs": [
    {
     "data": {
      "text/plain": [
       "<matplotlib.axes._subplots.AxesSubplot at 0x27946d8e390>"
      ]
     },
     "execution_count": 20,
     "metadata": {},
     "output_type": "execute_result"
    },
    {
     "data": {
      "image/png": "[encoded data removed]",
      "text/plain": [
       "<Figure size 1080x360 with 1 Axes>"
      ]
     },
     "metadata": {},
     "output_type": "display_data"
    }
   ],
   "source": [
    "df_transformed.plot(figsize=(15,5))"
   ]
  },
  {
   "cell_type": "code",
   "execution_count": 21,
   "metadata": {},
   "outputs": [],
   "source": [
    "df_transformed = df_transformed.diff().dropna()"
   ]
  },
  {
   "cell_type": "code",
   "execution_count": 22,
   "metadata": {},
   "outputs": [
    {
     "name": "stdout",
     "output_type": "stream",
     "text": [
      "Augmented Dickey-Fuller Test: \n",
      "ADF test statistic     -7.077471e+00\n",
      "p-value                 4.760675e-10\n",
      "# lags used             1.400000e+01\n",
      "# observations          2.350000e+02\n",
      "critical value (1%)    -3.458487e+00\n",
      "critical value (5%)    -2.873919e+00\n",
      "critical value (10%)   -2.573367e+00\n",
      "Strong evidence against the null hypothesis\n",
      "Reject the null hypothesis\n",
      "Data has no unit root and is stationary\n"
     ]
    }
   ],
   "source": [
    "adf_test(df_transformed['Money'])"
   ]
  },
  {
   "cell_type": "code",
   "execution_count": 23,
   "metadata": {},
   "outputs": [
    {
     "data": {
      "text/plain": [
       "<matplotlib.axes._subplots.AxesSubplot at 0x279472b8208>"
      ]
     },
     "execution_count": 23,
     "metadata": {},
     "output_type": "execute_result"
    },
    {
     "data": {
      "image/png": "[encoded data removed]",
      "text/plain": [
       "<Figure size 1080x360 with 1 Axes>"
      ]
     },
     "metadata": {},
     "output_type": "display_data"
    }
   ],
   "source": [
    "df_transformed.plot(figsize=(15,5))"
   ]
  },
  {
   "cell_type": "code",
   "execution_count": 24,
   "metadata": {},
   "outputs": [
    {
     "name": "stdout",
     "output_type": "stream",
     "text": [
      "Augmented Dickey-Fuller Test: \n",
      "ADF test statistic     -8.760145e+00\n",
      "p-value                 2.687900e-14\n",
      "# lags used             8.000000e+00\n",
      "# observations          2.410000e+02\n",
      "critical value (1%)    -3.457779e+00\n",
      "critical value (5%)    -2.873609e+00\n",
      "critical value (10%)   -2.573202e+00\n",
      "Strong evidence against the null hypothesis\n",
      "Reject the null hypothesis\n",
      "Data has no unit root and is stationary\n"
     ]
    }
   ],
   "source": [
    "adf_test(df_transformed['Spending'])"
   ]
  },
  {
   "cell_type": "code",
   "execution_count": 25,
   "metadata": {},
   "outputs": [],
   "source": [
    "# Number of observations\n",
    "nobs = 12"
   ]
  },
  {
   "cell_type": "code",
   "execution_count": 26,
   "metadata": {},
   "outputs": [],
   "source": [
    "train = df_transformed[:-nobs]\n",
    "test = df_transformed[-nobs:]"
   ]
  },
  {
   "cell_type": "code",
   "execution_count": 27,
   "metadata": {},
   "outputs": [
    {
     "data": {
      "text/markdown": [
       "\n",
       "# Gridsearch for order p AR of VAR model"
      ],
      "text/plain": [
       "<IPython.core.display.Markdown object>"
      ]
     },
     "metadata": {},
     "output_type": "display_data"
    }
   ],
   "source": [
    "%%markdown\n",
    "\n",
    "# Gridsearch for order p AR of VAR model"
   ]
  },
  {
   "cell_type": "code",
   "execution_count": 29,
   "metadata": {},
   "outputs": [
    {
     "name": "stdout",
     "output_type": "stream",
     "text": [
      "ORDER 1\n",
      "AIC: 14.178610495220896\n",
      "\n",
      "\n",
      "ORDER 2\n",
      "AIC: 13.955189367163703\n",
      "\n",
      "\n",
      "ORDER 3\n",
      "AIC: 13.849518291541038\n",
      "\n",
      "\n",
      "ORDER 4\n",
      "AIC: 13.827950574458281\n",
      "\n",
      "\n",
      "ORDER 5\n",
      "AIC: 13.78730034460964\n",
      "\n",
      "\n",
      "ORDER 6\n",
      "AIC: 13.799076756885809\n",
      "\n",
      "\n",
      "ORDER 7\n",
      "AIC: 13.79763872791397\n",
      "\n",
      "\n",
      "ORDER 8\n",
      "AIC: 13.747200843672085\n",
      "\n",
      "\n",
      "ORDER 9\n",
      "AIC: 13.768071682657098\n",
      "\n",
      "\n",
      "ORDER 10\n",
      "AIC: 13.806012266239211\n",
      "\n",
      "\n",
      "ORDER 11\n",
      "AIC: 13.84632341922473\n",
      "\n",
      "\n",
      "ORDER 12\n",
      "AIC: 13.883679604697722\n",
      "\n",
      "\n",
      "ORDER 13\n",
      "AIC: 13.888634319975719\n",
      "\n",
      "\n",
      "ORDER 14\n",
      "AIC: 13.929666539517402\n",
      "\n",
      "\n"
     ]
    }
   ],
   "source": [
    "model = VAR(train)\n",
    "\n",
    "for p in [1,2,3,4,5,6,7,8,9,10,11,12,13,14]:\n",
    "    results = model.fit(p)\n",
    "    print(f'ORDER {p}')\n",
    "    print(f'AIC: {results.aic}')\n",
    "    print('\\n')"
   ]
  },
  {
   "cell_type": "code",
   "execution_count": 30,
   "metadata": {},
   "outputs": [
    {
     "data": {
      "text/plain": [
       "  Summary of Regression Results   \n",
       "==================================\n",
       "Model:                         VAR\n",
       "Method:                        OLS\n",
       "Date:           Fri, 03, Jan, 2020\n",
       "Time:                     18:01:04\n",
       "--------------------------------------------------------------------\n",
       "No. of Equations:         2.00000    BIC:                    14.1131\n",
       "Nobs:                     233.000    HQIC:                   13.9187\n",
       "Log likelihood:          -2245.45    FPE:                    972321.\n",
       "AIC:                      13.7873    Det(Omega_mle):         886628.\n",
       "--------------------------------------------------------------------\n",
       "Results for equation Money\n",
       "==============================================================================\n",
       "                 coefficient       std. error           t-stat            prob\n",
       "------------------------------------------------------------------------------\n",
       "const               0.516683         1.782238            0.290           0.772\n",
       "L1.Money           -0.646232         0.068177           -9.479           0.000\n",
       "L1.Spending        -0.107411         0.051388           -2.090           0.037\n",
       "L2.Money           -0.497482         0.077749           -6.399           0.000\n",
       "L2.Spending        -0.192202         0.068613           -2.801           0.005\n",
       "L3.Money           -0.234442         0.081004           -2.894           0.004\n",
       "L3.Spending        -0.178099         0.074288           -2.397           0.017\n",
       "L4.Money           -0.295531         0.075294           -3.925           0.000\n",
       "L4.Spending        -0.035564         0.069664           -0.511           0.610\n",
       "L5.Money           -0.162399         0.066700           -2.435           0.015\n",
       "L5.Spending        -0.058449         0.051357           -1.138           0.255\n",
       "==============================================================================\n",
       "\n",
       "Results for equation Spending\n",
       "==============================================================================\n",
       "                 coefficient       std. error           t-stat            prob\n",
       "------------------------------------------------------------------------------\n",
       "const               0.203469         2.355446            0.086           0.931\n",
       "L1.Money            0.188105         0.090104            2.088           0.037\n",
       "L1.Spending        -0.878970         0.067916          -12.942           0.000\n",
       "L2.Money            0.053017         0.102755            0.516           0.606\n",
       "L2.Spending        -0.625313         0.090681           -6.896           0.000\n",
       "L3.Money           -0.022172         0.107057           -0.207           0.836\n",
       "L3.Spending        -0.389041         0.098180           -3.963           0.000\n",
       "L4.Money           -0.170456         0.099510           -1.713           0.087\n",
       "L4.Spending        -0.245435         0.092069           -2.666           0.008\n",
       "L5.Money           -0.083165         0.088153           -0.943           0.345\n",
       "L5.Spending        -0.181699         0.067874           -2.677           0.007\n",
       "==============================================================================\n",
       "\n",
       "Correlation matrix of residuals\n",
       "               Money  Spending\n",
       "Money       1.000000 -0.267934\n",
       "Spending   -0.267934  1.000000\n",
       "\n"
      ]
     },
     "execution_count": 30,
     "metadata": {},
     "output_type": "execute_result"
    }
   ],
   "source": [
    "results = model.fit(5)\n",
    "results.summary()"
   ]
  },
  {
   "cell_type": "code",
   "execution_count": 33,
   "metadata": {},
   "outputs": [],
   "source": [
    "# Grab 5 lagged values, right before the test starts!\n",
    "# Numpy array\n",
    "\n",
    "lagged_values = train.values[-5:]"
   ]
  },
  {
   "cell_type": "code",
   "execution_count": 35,
   "metadata": {},
   "outputs": [],
   "source": [
    "z = results.forecast(y=lagged_values, steps=nobs)"
   ]
  },
  {
   "cell_type": "code",
   "execution_count": 36,
   "metadata": {},
   "outputs": [
    {
     "data": {
      "text/plain": [
       "array([[-16.99527634,  36.14982003],\n",
       "       [ -3.17403756, -11.45029844],\n",
       "       [ -0.377725  ,  -6.68496939],\n",
       "       [ -2.60223305,   5.47945777],\n",
       "       [  4.228557  ,  -2.44336505],\n",
       "       [  1.55939341,   0.38763902],\n",
       "       [ -0.99841027,   3.88368011],\n",
       "       [  0.36451042,  -2.3561014 ],\n",
       "       [ -1.21062726,  -1.22414652],\n",
       "       [  0.22587712,   0.786927  ],\n",
       "       [  1.33893884,   0.18097449],\n",
       "       [ -0.21858453,   0.21275046]])"
      ]
     },
     "execution_count": 36,
     "metadata": {},
     "output_type": "execute_result"
    }
   ],
   "source": [
    "z"
   ]
  },
  {
   "cell_type": "code",
   "execution_count": 37,
   "metadata": {},
   "outputs": [],
   "source": [
    "idx = pd.date_range('2015-01-01', periods=12, freq='MS')"
   ]
  },
  {
   "cell_type": "code",
   "execution_count": 38,
   "metadata": {},
   "outputs": [
    {
     "data": {
      "text/plain": [
       "DatetimeIndex(['2015-01-01', '2015-02-01', '2015-03-01', '2015-04-01',\n",
       "               '2015-05-01', '2015-06-01', '2015-07-01', '2015-08-01',\n",
       "               '2015-09-01', '2015-10-01', '2015-11-01', '2015-12-01'],\n",
       "              dtype='datetime64[ns]', freq='MS')"
      ]
     },
     "execution_count": 38,
     "metadata": {},
     "output_type": "execute_result"
    }
   ],
   "source": [
    "idx"
   ]
  },
  {
   "cell_type": "code",
   "execution_count": 39,
   "metadata": {},
   "outputs": [
    {
     "data": {
      "text/html": [
       "<div>\n",
       "<style scoped>\n",
       "    .dataframe tbody tr th:only-of-type {\n",
       "        vertical-align: middle;\n",
       "    }\n",
       "\n",
       "    .dataframe tbody tr th {\n",
       "        vertical-align: top;\n",
       "    }\n",
       "\n",
       "    .dataframe thead th {\n",
       "        text-align: right;\n",
       "    }\n",
       "</style>\n",
       "<table border=\"1\" class=\"dataframe\">\n",
       "  <thead>\n",
       "    <tr style=\"text-align: right;\">\n",
       "      <th></th>\n",
       "      <th>Money_2d</th>\n",
       "      <th>Spending_2d</th>\n",
       "    </tr>\n",
       "  </thead>\n",
       "  <tbody>\n",
       "    <tr>\n",
       "      <th>2015-01-01</th>\n",
       "      <td>-16.995276</td>\n",
       "      <td>36.149820</td>\n",
       "    </tr>\n",
       "    <tr>\n",
       "      <th>2015-02-01</th>\n",
       "      <td>-3.174038</td>\n",
       "      <td>-11.450298</td>\n",
       "    </tr>\n",
       "    <tr>\n",
       "      <th>2015-03-01</th>\n",
       "      <td>-0.377725</td>\n",
       "      <td>-6.684969</td>\n",
       "    </tr>\n",
       "    <tr>\n",
       "      <th>2015-04-01</th>\n",
       "      <td>-2.602233</td>\n",
       "      <td>5.479458</td>\n",
       "    </tr>\n",
       "    <tr>\n",
       "      <th>2015-05-01</th>\n",
       "      <td>4.228557</td>\n",
       "      <td>-2.443365</td>\n",
       "    </tr>\n",
       "    <tr>\n",
       "      <th>2015-06-01</th>\n",
       "      <td>1.559393</td>\n",
       "      <td>0.387639</td>\n",
       "    </tr>\n",
       "    <tr>\n",
       "      <th>2015-07-01</th>\n",
       "      <td>-0.998410</td>\n",
       "      <td>3.883680</td>\n",
       "    </tr>\n",
       "    <tr>\n",
       "      <th>2015-08-01</th>\n",
       "      <td>0.364510</td>\n",
       "      <td>-2.356101</td>\n",
       "    </tr>\n",
       "    <tr>\n",
       "      <th>2015-09-01</th>\n",
       "      <td>-1.210627</td>\n",
       "      <td>-1.224147</td>\n",
       "    </tr>\n",
       "    <tr>\n",
       "      <th>2015-10-01</th>\n",
       "      <td>0.225877</td>\n",
       "      <td>0.786927</td>\n",
       "    </tr>\n",
       "    <tr>\n",
       "      <th>2015-11-01</th>\n",
       "      <td>1.338939</td>\n",
       "      <td>0.180974</td>\n",
       "    </tr>\n",
       "    <tr>\n",
       "      <th>2015-12-01</th>\n",
       "      <td>-0.218585</td>\n",
       "      <td>0.212750</td>\n",
       "    </tr>\n",
       "  </tbody>\n",
       "</table>\n",
       "</div>"
      ],
      "text/plain": [
       "             Money_2d  Spending_2d\n",
       "2015-01-01 -16.995276    36.149820\n",
       "2015-02-01  -3.174038   -11.450298\n",
       "2015-03-01  -0.377725    -6.684969\n",
       "2015-04-01  -2.602233     5.479458\n",
       "2015-05-01   4.228557    -2.443365\n",
       "2015-06-01   1.559393     0.387639\n",
       "2015-07-01  -0.998410     3.883680\n",
       "2015-08-01   0.364510    -2.356101\n",
       "2015-09-01  -1.210627    -1.224147\n",
       "2015-10-01   0.225877     0.786927\n",
       "2015-11-01   1.338939     0.180974\n",
       "2015-12-01  -0.218585     0.212750"
      ]
     },
     "execution_count": 39,
     "metadata": {},
     "output_type": "execute_result"
    }
   ],
   "source": [
    "pd.DataFrame(data=z, index=idx, columns=['Money_2d','Spending_2d'])"
   ]
  },
  {
   "cell_type": "code",
   "execution_count": 40,
   "metadata": {},
   "outputs": [
    {
     "data": {
      "text/html": [
       "<div>\n",
       "<style scoped>\n",
       "    .dataframe tbody tr th:only-of-type {\n",
       "        vertical-align: middle;\n",
       "    }\n",
       "\n",
       "    .dataframe tbody tr th {\n",
       "        vertical-align: top;\n",
       "    }\n",
       "\n",
       "    .dataframe thead th {\n",
       "        text-align: right;\n",
       "    }\n",
       "</style>\n",
       "<table border=\"1\" class=\"dataframe\">\n",
       "  <thead>\n",
       "    <tr style=\"text-align: right;\">\n",
       "      <th></th>\n",
       "      <th>Money</th>\n",
       "      <th>Spending</th>\n",
       "    </tr>\n",
       "    <tr>\n",
       "      <th>Date</th>\n",
       "      <th></th>\n",
       "      <th></th>\n",
       "    </tr>\n",
       "  </thead>\n",
       "  <tbody>\n",
       "    <tr>\n",
       "      <th>2015-01-01</th>\n",
       "      <td>-15.5</td>\n",
       "      <td>-26.6</td>\n",
       "    </tr>\n",
       "    <tr>\n",
       "      <th>2015-02-01</th>\n",
       "      <td>56.1</td>\n",
       "      <td>52.4</td>\n",
       "    </tr>\n",
       "    <tr>\n",
       "      <th>2015-03-01</th>\n",
       "      <td>-102.8</td>\n",
       "      <td>39.5</td>\n",
       "    </tr>\n",
       "    <tr>\n",
       "      <th>2015-04-01</th>\n",
       "      <td>30.9</td>\n",
       "      <td>-40.4</td>\n",
       "    </tr>\n",
       "    <tr>\n",
       "      <th>2015-05-01</th>\n",
       "      <td>-15.8</td>\n",
       "      <td>38.8</td>\n",
       "    </tr>\n",
       "    <tr>\n",
       "      <th>2015-06-01</th>\n",
       "      <td>14.0</td>\n",
       "      <td>-34.1</td>\n",
       "    </tr>\n",
       "    <tr>\n",
       "      <th>2015-07-01</th>\n",
       "      <td>6.7</td>\n",
       "      <td>6.9</td>\n",
       "    </tr>\n",
       "    <tr>\n",
       "      <th>2015-08-01</th>\n",
       "      <td>-0.7</td>\n",
       "      <td>-8.5</td>\n",
       "    </tr>\n",
       "    <tr>\n",
       "      <th>2015-09-01</th>\n",
       "      <td>5.5</td>\n",
       "      <td>-39.8</td>\n",
       "    </tr>\n",
       "    <tr>\n",
       "      <th>2015-10-01</th>\n",
       "      <td>-23.1</td>\n",
       "      <td>24.5</td>\n",
       "    </tr>\n",
       "    <tr>\n",
       "      <th>2015-11-01</th>\n",
       "      <td>55.8</td>\n",
       "      <td>10.7</td>\n",
       "    </tr>\n",
       "    <tr>\n",
       "      <th>2015-12-01</th>\n",
       "      <td>-31.2</td>\n",
       "      <td>-15.0</td>\n",
       "    </tr>\n",
       "  </tbody>\n",
       "</table>\n",
       "</div>"
      ],
      "text/plain": [
       "            Money  Spending\n",
       "Date                       \n",
       "2015-01-01  -15.5     -26.6\n",
       "2015-02-01   56.1      52.4\n",
       "2015-03-01 -102.8      39.5\n",
       "2015-04-01   30.9     -40.4\n",
       "2015-05-01  -15.8      38.8\n",
       "2015-06-01   14.0     -34.1\n",
       "2015-07-01    6.7       6.9\n",
       "2015-08-01   -0.7      -8.5\n",
       "2015-09-01    5.5     -39.8\n",
       "2015-10-01  -23.1      24.5\n",
       "2015-11-01   55.8      10.7\n",
       "2015-12-01  -31.2     -15.0"
      ]
     },
     "execution_count": 40,
     "metadata": {},
     "output_type": "execute_result"
    }
   ],
   "source": [
    "test"
   ]
  },
  {
   "cell_type": "code",
   "execution_count": null,
   "metadata": {},
   "outputs": [],
   "source": []
  }
 ],
 "metadata": {
  "kernelspec": {
   "display_name": "Python 3",
   "language": "python",
   "name": "python3"
  },
  "language_info": {
   "codemirror_mode": {
    "name": "ipython",
    "version": 3
   },
   "file_extension": ".py",
   "mimetype": "text/x-python",
   "name": "python",
   "nbconvert_exporter": "python",
   "pygments_lexer": "ipython3",
   "version": "3.6.5"
  }
 },
 "nbformat": 4,
 "nbformat_minor": 2
}
